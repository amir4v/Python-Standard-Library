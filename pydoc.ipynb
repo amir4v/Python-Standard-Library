{
 "cells": [
  {
   "cell_type": "code",
   "execution_count": 1,
   "metadata": {},
   "outputs": [],
   "source": [
    "import pydoc"
   ]
  },
  {
   "cell_type": "code",
   "execution_count": 12,
   "metadata": {},
   "outputs": [
    {
     "name": "stdout",
     "output_type": "stream",
     "text": [
      "CLS Documentation Double-Quote\n",
      "a_func Documentation Triple-Double-Quote\n",
      "yo Documentation Triple-Single-Quote\n",
      "===============================================================================\n",
      "Help on class CLS in module __main__:\n",
      "\n",
      "class CLS(builtins.object)\n",
      " |  CLS Documentation Double-Quote\n",
      " |  \n",
      " |  Methods defined here:\n",
      " |  \n",
      " |  a_func(name)\n",
      " |      a_func Documentation Triple-Double-Quote\n",
      " |  \n",
      " |  yo()\n",
      " |      yo Documentation Triple-Single-Quote\n",
      " |  \n",
      " |  ----------------------------------------------------------------------\n",
      " |  Data descriptors defined here:\n",
      " |  \n",
      " |  __dict__\n",
      " |      dictionary for instance variables (if defined)\n",
      " |  \n",
      " |  __weakref__\n",
      " |      list of weak references to the object (if defined)\n",
      "\n"
     ]
    }
   ],
   "source": [
    "class CLS:\n",
    "    \"CLS Documentation Double-Quote\"\n",
    "    \n",
    "    def a_func(name):\n",
    "        \"\"\"a_func Documentation Triple-Double-Quote\"\"\"\n",
    "        return name[::-1]\n",
    "    \n",
    "    def yo():\n",
    "        '''yo Documentation Triple-Single-Quote'''\n",
    "        return 'Nothing.'\n",
    "\n",
    "print(CLS.__doc__)\n",
    "print(CLS.a_func.__doc__)\n",
    "print(CLS.yo.__doc__)\n",
    "\n",
    "print('=' * 79)\n",
    "\n",
    "help(CLS)"
   ]
  },
  {
   "cell_type": "code",
   "execution_count": null,
   "metadata": {},
   "outputs": [],
   "source": []
  }
 ],
 "metadata": {
  "kernelspec": {
   "display_name": "venv",
   "language": "python",
   "name": "python3"
  },
  "language_info": {
   "codemirror_mode": {
    "name": "ipython",
    "version": 3
   },
   "file_extension": ".py",
   "mimetype": "text/x-python",
   "name": "python",
   "nbconvert_exporter": "python",
   "pygments_lexer": "ipython3",
   "version": "3.11.0"
  },
  "orig_nbformat": 4
 },
 "nbformat": 4,
 "nbformat_minor": 2
}
