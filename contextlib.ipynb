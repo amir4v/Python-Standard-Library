{
 "cells": [
  {
   "cell_type": "code",
   "execution_count": 1,
   "metadata": {},
   "outputs": [],
   "source": [
    "from contextlib import *"
   ]
  },
  {
   "cell_type": "code",
   "execution_count": 3,
   "metadata": {},
   "outputs": [
    {
     "data": {
      "text/plain": [
       "contextlib.redirect_stdout"
      ]
     },
     "execution_count": 3,
     "metadata": {},
     "output_type": "execute_result"
    }
   ],
   "source": [
    "contextmanager\n",
    "asynccontextmanager\n",
    "closing\n",
    "aclosing\n",
    "suppress\n",
    "ContextDecorator\n",
    "# AsyncContextDecorator\n",
    "AbstractContextManager\n",
    "AbstractAsyncContextManager\n",
    "ExitStack\n",
    "redirect_stdout"
   ]
  },
  {
   "cell_type": "code",
   "execution_count": 7,
   "metadata": {},
   "outputs": [
    {
     "name": "stdout",
     "output_type": "stream",
     "text": [
      "Resource\n"
     ]
    }
   ],
   "source": [
    "@contextmanager\n",
    "def managed_resource(*args, **kwargs):\n",
    "    yield 'Resource'\n",
    "\n",
    "with managed_resource() as resource:\n",
    "    print(resource)"
   ]
  },
  {
   "cell_type": "code",
   "execution_count": 8,
   "metadata": {},
   "outputs": [],
   "source": [
    "import timeit"
   ]
  },
  {
   "cell_type": "code",
   "execution_count": 16,
   "metadata": {},
   "outputs": [
    {
     "name": "stdout",
     "output_type": "stream",
     "text": [
      "meow!\n",
      "CLOSING<.><.>\n"
     ]
    }
   ],
   "source": [
    "@contextmanager\n",
    "def closing(thing):\n",
    "    try:\n",
    "        yield thing\n",
    "    finally:\n",
    "        print(\"CLOSING<.><.>\")\n",
    "\n",
    "with closing(\"meow!\") as c:\n",
    "    print(c)"
   ]
  },
  {
   "cell_type": "code",
   "execution_count": 17,
   "metadata": {},
   "outputs": [],
   "source": [
    "import os\n",
    "\n",
    "with suppress(FileNotFoundError): # SarKob\n",
    "    os.remove('somefile.txt')"
   ]
  },
  {
   "cell_type": "code",
   "execution_count": 27,
   "metadata": {},
   "outputs": [
    {
     "name": "stdout",
     "output_type": "stream",
     "text": [
      "beginning\n",
      "Exit\n"
     ]
    }
   ],
   "source": [
    "class mycontext(ContextDecorator):\n",
    "    def __enter__(self):\n",
    "        print('beginning')\n",
    "    \n",
    "    def __exit__(self, *exc): # *exc\n",
    "        print('Exit')\n",
    "\n",
    "with mycontext():\n",
    "    pass"
   ]
  },
  {
   "cell_type": "code",
   "execution_count": 36,
   "metadata": {},
   "outputs": [
    {
     "name": "stdout",
     "output_type": "stream",
     "text": [
      ".init\n",
      "..enter\n",
      "None\n",
      "...exit\n"
     ]
    }
   ],
   "source": [
    "class WithinContext:\n",
    "    def __init__(self):\n",
    "        print('.init')\n",
    "    def __enter__(self):\n",
    "        print('..enter')\n",
    "    def __exit__(self, *exc): # *exc\n",
    "        print('...exit')\n",
    "    def do_something(self):\n",
    "        print('some thing...')\n",
    "\n",
    "with WithinContext() as wc:\n",
    "    print(wc)"
   ]
  },
  {
   "cell_type": "code",
   "execution_count": 37,
   "metadata": {},
   "outputs": [
    {
     "name": "stdout",
     "output_type": "stream",
     "text": [
      ".init\n",
      "..enter\n",
      "<__main__.WithinContext object at 0x000001BFD5FBCCD0>\n",
      "...exit\n"
     ]
    }
   ],
   "source": [
    "class WithinContext:\n",
    "    def __init__(self):\n",
    "        print('.init')\n",
    "    def __enter__(self):\n",
    "        print('..enter')\n",
    "        return self\n",
    "    def __exit__(self, *exc): # *exc\n",
    "        print('...exit')\n",
    "    def do_something(self):\n",
    "        print('some thing...')\n",
    "\n",
    "with WithinContext() as wc:\n",
    "    print(wc)"
   ]
  },
  {
   "cell_type": "code",
   "execution_count": 38,
   "metadata": {},
   "outputs": [
    {
     "name": "stdout",
     "output_type": "stream",
     "text": [
      ".init\n",
      "..enter\n",
      "some thing...\n",
      "...exit\n"
     ]
    }
   ],
   "source": [
    "class WithinContext:\n",
    "    def __init__(self):\n",
    "        print('.init')\n",
    "    def __enter__(self):\n",
    "        print('..enter')\n",
    "        return self # RETURN\n",
    "    def __exit__(self, *exc): # *exc\n",
    "        print('...exit')\n",
    "    def do_something(self):\n",
    "        print('some thing...')\n",
    "\n",
    "with WithinContext() as wc:\n",
    "    wc.do_something()"
   ]
  },
  {
   "cell_type": "code",
   "execution_count": 40,
   "metadata": {},
   "outputs": [
    {
     "name": "stdout",
     "output_type": "stream",
     "text": [
      "entering\n",
      "{}\n",
      "exiting\n"
     ]
    }
   ],
   "source": [
    "@contextmanager\n",
    "def make_context():\n",
    "    print('entering')\n",
    "    try:\n",
    "        yield {}\n",
    "    except RuntimeError as e:\n",
    "        print('ERROR:', e)\n",
    "    finally:\n",
    "        print('exiting')\n",
    "\n",
    "with make_context() as mc:\n",
    "    print(mc)"
   ]
  },
  {
   "cell_type": "code",
   "execution_count": null,
   "metadata": {},
   "outputs": [],
   "source": []
  }
 ],
 "metadata": {
  "kernelspec": {
   "display_name": "venv",
   "language": "python",
   "name": "python3"
  },
  "language_info": {
   "codemirror_mode": {
    "name": "ipython",
    "version": 3
   },
   "file_extension": ".py",
   "mimetype": "text/x-python",
   "name": "python",
   "nbconvert_exporter": "python",
   "pygments_lexer": "ipython3",
   "version": "3.11.0"
  },
  "orig_nbformat": 4
 },
 "nbformat": 4,
 "nbformat_minor": 2
}
