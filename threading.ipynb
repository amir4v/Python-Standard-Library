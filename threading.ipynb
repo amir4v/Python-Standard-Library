{
 "cells": [
  {
   "cell_type": "code",
   "execution_count": 2,
   "metadata": {},
   "outputs": [],
   "source": [
    "from threading import *"
   ]
  },
  {
   "cell_type": "code",
   "execution_count": 3,
   "metadata": {},
   "outputs": [
    {
     "data": {
      "text/plain": [
       "threading.Barrier"
      ]
     },
     "execution_count": 3,
     "metadata": {},
     "output_type": "execute_result"
    }
   ],
   "source": [
    "Thread\n",
    "Lock\n",
    "RLock\n",
    "Condition\n",
    "Semaphore\n",
    "BoundedSemaphore\n",
    "Event\n",
    "Timer\n",
    "Barrier"
   ]
  },
  {
   "cell_type": "code",
   "execution_count": 4,
   "metadata": {},
   "outputs": [
    {
     "name": "stdout",
     "output_type": "stream",
     "text": [
      "a\n",
      "b\n",
      "c\n",
      "d\n",
      "e\n",
      "f\n",
      "f\n",
      "e\n",
      "d\n",
      "c\n",
      "b\n",
      "a\n"
     ]
    }
   ],
   "source": [
    "def atof():\n",
    "    for i in 'abcdef':\n",
    "        print(i)\n",
    "x = Thread(target=atof)\n",
    "x.start()\n",
    "\n",
    "def ftoa():\n",
    "    for i in 'abcdef'[::-1]:\n",
    "        print(i)\n",
    "y = Thread(target=ftoa)\n",
    "y.start()"
   ]
  },
  {
   "cell_type": "code",
   "execution_count": 5,
   "metadata": {},
   "outputs": [
    {
     "name": "stdout",
     "output_type": "stream",
     "text": [
      "a\n",
      "b\n",
      "c\n",
      "d\n",
      "e\n",
      "f\n"
     ]
    }
   ],
   "source": [
    "# In computer science, a daemon is a process that runs in the background.\n",
    "x = Thread(target=atof, daemon=True)\n",
    "x.start()"
   ]
  },
  {
   "cell_type": "code",
   "execution_count": 6,
   "metadata": {},
   "outputs": [
    {
     "name": "stdout",
     "output_type": "stream",
     "text": [
      "a\n",
      "b\n",
      "c\n",
      "d\n",
      "e\n",
      "f\n",
      "f\n",
      "e\n",
      "d\n",
      "c\n",
      "b\n",
      "a\n"
     ]
    }
   ],
   "source": [
    "# join() a Thread\n",
    "# Daemon threads are handy, but what about when you want to wait for a thread to stop? What about when you want to do that and not exit your program?\n",
    "def atof():\n",
    "    for i in 'abcdef':\n",
    "        print(i)\n",
    "x = Thread(target=atof)\n",
    "x.start()\n",
    "\n",
    "def ftoa():\n",
    "    for i in 'abcdef'[::-1]:\n",
    "        print(i)\n",
    "y = Thread(target=ftoa)\n",
    "y.start()\n",
    "\n",
    "x.join()\n",
    "y.join()"
   ]
  },
  {
   "cell_type": "code",
   "execution_count": 7,
   "metadata": {},
   "outputs": [],
   "source": [
    "# Using a ThreadPoolExecutor\n",
    "# There’s an easier way to start up a group of threads than the one you saw above.\n",
    "# It’s called a ThreadPoolExecutor, and it’s part of the standard library in concurrent.futures\n",
    "import concurrent.futures\n",
    "# The code creates a ThreadPoolExecutor as a context manager, telling it how many worker threads it wants in the pool.\n",
    "# It then uses .map() to step through an iterable of things, in your case range(3), passing each one to a thread in the pool.\n",
    "with concurrent.futures.ThreadPoolExecutor(max_workers=5) as executor:\n",
    "# concurrent.futures.ProcessPoolExecutor\n",
    "    executor.map(atof, range(5))\n",
    "# Unfortunately, ThreadPoolExecutor will hide that exception, and (in the case above) the program terminates with no output.\n",
    "# This can be quite confusing to debug at first."
   ]
  },
  {
   "cell_type": "code",
   "execution_count": 8,
   "metadata": {},
   "outputs": [
    {
     "name": "stdout",
     "output_type": "stream",
     "text": [
      "isolation\n"
     ]
    }
   ],
   "source": [
    "# Basic Synchronization Using Lock\n",
    "# There are a number of ways to avoid or solve race conditions.\n",
    "lock = Lock()\n",
    "lock.acquire()\n",
    "# ...\n",
    "print('isolation')\n",
    "lock.release()"
   ]
  },
  {
   "cell_type": "code",
   "execution_count": 11,
   "metadata": {},
   "outputs": [
    {
     "name": "stdout",
     "output_type": "stream",
     "text": [
      "start\n",
      "end value 2\n",
      "end main\n"
     ]
    },
    {
     "data": {
      "text/plain": [
       "'\\nstart\\nend value 2\\nend main\\n'"
      ]
     },
     "execution_count": 11,
     "metadata": {},
     "output_type": "execute_result"
    }
   ],
   "source": [
    "# Threading: multiple-threads, share data between threads, how to use locks to prevent raise conditions, deamon process, how to use queue for thread safe data exchange\n",
    "\n",
    "from threading import Thread, Lock\n",
    "import time\n",
    "\n",
    "database_value = 0\n",
    "\n",
    "def increase(lock):\n",
    "    global database_value\n",
    "        \n",
    "    lock.acquire()\n",
    "    # ( some processing\n",
    "    local_copy = database_value\n",
    "    local_copy += 1\n",
    "    time.sleep(0.1) # )\n",
    "    database_value = local_copy\n",
    "    lock.release() # Necessary (otherwise we'll stuck here)\n",
    "\n",
    "\n",
    "lock = Lock()\n",
    "\n",
    "print(\"start\")\n",
    "\n",
    "\n",
    "thread1 = Thread(target=increase, args=(lock,))\n",
    "thread2 = Thread(target=increase, args=(lock,))\n",
    "\n",
    "thread1.start()\n",
    "thread2.start()\n",
    "\n",
    "thread1.join()\n",
    "thread2.join()\n",
    "\n",
    "print(\"end value\", database_value)\n",
    "\n",
    "print(\"end main\")\n",
    "\n",
    "\"\"\"\n",
    "start\n",
    "end value 2\n",
    "end main\n",
    "\"\"\""
   ]
  },
  {
   "cell_type": "code",
   "execution_count": 10,
   "metadata": {},
   "outputs": [],
   "source": [
    "with lock:\n",
    "    # ...\n",
    "    pass"
   ]
  },
  {
   "cell_type": "code",
   "execution_count": 8,
   "metadata": {},
   "outputs": [
    {
     "name": "stdout",
     "output_type": "stream",
     "text": [
      "in Thread-61 (worker) got 1in Thread-65 (worker) got 2\n",
      "in Thread-65 (worker) got 3\n",
      "in Thread-65 (worker) got 4\n",
      "in Thread-65 (worker) got 5\n",
      "in Thread-65 (worker) got 6\n",
      "in Thread-65 (worker) got 7\n",
      "in Thread-65 (worker) got 8\n",
      "in Thread-65 (worker) got 9\n",
      "in Thread-65 (worker) got 10\n",
      "in Thread-65 (worker) got 11\n",
      "in Thread-65 (worker) got 12\n",
      "in Thread-65 (worker) got 13\n",
      "in Thread-65 (worker) got 14\n",
      "in Thread-65 (worker) got 15\n",
      "in Thread-65 (worker) got 16\n",
      "in Thread-65 (worker) got 17\n",
      "in Thread-65 (worker) got 18\n",
      "in Thread-65 (worker) got 19\n",
      "in Thread-65 (worker) got 20\n",
      "\n",
      "end main\n"
     ]
    }
   ],
   "source": [
    "from threading import Thread, current_thread\n",
    "from queue import Queue\n",
    "\n",
    "def worker(q):\n",
    "    while(True):\n",
    "        value = q.get()\n",
    "        print(f\"in {current_thread().name} got {value}\")\n",
    "        q.task_done()\n",
    "\n",
    "\n",
    "q = Queue()\n",
    "\n",
    "num_threads = 10\n",
    "\n",
    "for i in range(num_threads):\n",
    "    thread = Thread(target=worker, args=(q,))\n",
    "    thread.deamon = True # (by default is False)\n",
    "    thread.start()\n",
    "\n",
    "for i in range(1, 21):\n",
    "    q.put(i)\n",
    "\n",
    "q.join()\n",
    "\n",
    "print(\"end main\")"
   ]
  },
  {
   "cell_type": "code",
   "execution_count": 9,
   "metadata": {},
   "outputs": [
    {
     "name": "stdout",
     "output_type": "stream",
     "text": [
      "in Thread-71 (worker) got 1\n",
      "in Thread-71 (worker) got 2\n",
      "in Thread-71 (worker) got 3\n",
      "in Thread-71 (worker) got 4\n",
      "in Thread-71 (worker) got 5\n",
      "in Thread-71 (worker) got 6\n",
      "in Thread-71 (worker) got 7\n",
      "in Thread-71 (worker) got 8\n",
      "in Thread-71 (worker) got 9\n",
      "in Thread-71 (worker) got 10\n",
      "in Thread-71 (worker) got 11\n",
      "in Thread-71 (worker) got 12\n",
      "in Thread-71 (worker) got 13\n",
      "in Thread-71 (worker) got 14\n",
      "in Thread-71 (worker) got 15\n",
      "in Thread-71 (worker) got 16\n",
      "in Thread-71 (worker) got 17\n",
      "in Thread-71 (worker) got 18\n",
      "in Thread-71 (worker) got 19\n",
      "in Thread-71 (worker) got 20\n",
      "end main\n"
     ]
    }
   ],
   "source": [
    "from threading import Thread, current_thread, Lock\n",
    "from queue import Queue\n",
    "\n",
    "def worker(q, lock):\n",
    "    while(True):\n",
    "        value = q.get()\n",
    "        with lock:\n",
    "            print(f\"in {current_thread().name} got {value}\")\n",
    "        q.task_done()\n",
    "\n",
    "\n",
    "q = Queue()\n",
    "lock = Lock()\n",
    "num_threads = 10\n",
    "\n",
    "for i in range(10):\n",
    "    thread = Thread(target=worker, args=(q,lock))\n",
    "    # Deamon-Thread will die when Main-Thread dies\n",
    "    thread.deamon = True # (by default is False) , deamon thread will die when main thread dies\n",
    "    thread.start()\n",
    "\n",
    "for i in range(1, 21):\n",
    "    q.put(i)\n",
    "\n",
    "q.join()\n",
    "\n",
    "print(\"end main\")"
   ]
  },
  {
   "cell_type": "code",
   "execution_count": 10,
   "metadata": {},
   "outputs": [
    {
     "name": "stdout",
     "output_type": "stream",
     "text": [
      "in Thread-81 (worker) got 1\n",
      "in Thread-81 (worker) got 2\n",
      "in Thread-81 (worker) got 3\n",
      "in Thread-81 (worker) got 4\n",
      "in Thread-81 (worker) got 5\n",
      "in Thread-81 (worker) got 6\n",
      "in Thread-81 (worker) got 7\n",
      "in Thread-81 (worker) got 8\n",
      "in Thread-81 (worker) got 9\n",
      "in Thread-81 (worker) got 10\n",
      "in Thread-81 (worker) got 11\n",
      "in Thread-81 (worker) got 12\n",
      "in Thread-81 (worker) got 13\n",
      "in Thread-81 (worker) got 14\n",
      "in Thread-81 (worker) got 15\n",
      "in Thread-81 (worker) got 16\n",
      "in Thread-81 (worker) got 17\n",
      "in Thread-81 (worker) got 18\n",
      "in Thread-81 (worker) got 19\n",
      "in Thread-81 (worker) got 20\n",
      "end main\n"
     ]
    }
   ],
   "source": [
    "from threading import Thread, current_thread, Lock\n",
    "from queue import Queue\n",
    "\n",
    "def worker(q, lock):\n",
    "    while(True):\n",
    "        value = q.get()\n",
    "        with lock:\n",
    "            print(f\"in {current_thread().name} got {value}\")\n",
    "        q.task_done()\n",
    "        \n",
    "        if q.empty():\n",
    "            break\n",
    "\n",
    "\n",
    "q = Queue()\n",
    "lock = Lock()\n",
    "num_threads = 10\n",
    "\n",
    "for i in range(10):\n",
    "    thread = Thread(target=worker, args=(q,lock))\n",
    "    \n",
    "    # Deamon-Thread is False\n",
    "    thread.deamon = False\n",
    "    \n",
    "    thread.start()\n",
    "\n",
    "for i in range(1, 21):\n",
    "    q.put(i)\n",
    "\n",
    "q.join()\n",
    "\n",
    "print(\"end main\")"
   ]
  },
  {
   "cell_type": "code",
   "execution_count": null,
   "metadata": {},
   "outputs": [],
   "source": []
  }
 ],
 "metadata": {
  "kernelspec": {
   "display_name": "venv",
   "language": "python",
   "name": "python3"
  },
  "language_info": {
   "codemirror_mode": {
    "name": "ipython",
    "version": 3
   },
   "file_extension": ".py",
   "mimetype": "text/x-python",
   "name": "python",
   "nbconvert_exporter": "python",
   "pygments_lexer": "ipython3",
   "version": "3.11.0"
  },
  "orig_nbformat": 4
 },
 "nbformat": 4,
 "nbformat_minor": 2
}
