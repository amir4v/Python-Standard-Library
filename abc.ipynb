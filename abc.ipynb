{
 "cells": [
  {
   "cell_type": "code",
   "execution_count": 3,
   "metadata": {},
   "outputs": [],
   "source": [
    "from abc import *"
   ]
  },
  {
   "cell_type": "code",
   "execution_count": 2,
   "metadata": {},
   "outputs": [
    {
     "data": {
      "text/plain": [
       "property"
      ]
     },
     "execution_count": 2,
     "metadata": {},
     "output_type": "execute_result"
    }
   ],
   "source": [
    "ABC\n",
    "ABCMeta\n",
    "abstractmethod\n",
    "classmethod\n",
    "staticmethod\n",
    "property"
   ]
  },
  {
   "cell_type": "code",
   "execution_count": 3,
   "metadata": {},
   "outputs": [],
   "source": [
    "# Note that the type of ABC is still ABCMeta.\n",
    "\n",
    "class MyClass(ABC):\n",
    "    pass"
   ]
  },
  {
   "cell_type": "code",
   "execution_count": 4,
   "metadata": {},
   "outputs": [],
   "source": [
    "class MyABC(metaclass=ABCMeta):\n",
    "    pass"
   ]
  },
  {
   "cell_type": "code",
   "execution_count": 5,
   "metadata": {},
   "outputs": [],
   "source": [
    "# ABCMeta, Metaclass for defining Abstract Base Classes (ABCs)."
   ]
  },
  {
   "cell_type": "code",
   "execution_count": 4,
   "metadata": {},
   "outputs": [
    {
     "data": {
      "text/plain": [
       "True"
      ]
     },
     "execution_count": 4,
     "metadata": {},
     "output_type": "execute_result"
    }
   ],
   "source": [
    "class MyABC(ABC):\n",
    "    pass\n",
    "\n",
    "# Register subclass as a “virtual subclass” of this ABC.\n",
    "MyABC.register(list)\n",
    "MyABC.register(tuple)\n",
    "# ...\n",
    "\n",
    "issubclass(list, MyABC)"
   ]
  },
  {
   "cell_type": "code",
   "execution_count": 1,
   "metadata": {},
   "outputs": [],
   "source": [
    "class C:\n",
    "    def _get_x(self):\n",
    "        return self.x * len(self.x)\n",
    "    \n",
    "    def _set_x(self, value):\n",
    "        self.x = value\n",
    "    \n",
    "    x = property(_get_x, _set_x)"
   ]
  },
  {
   "cell_type": "code",
   "execution_count": 5,
   "metadata": {},
   "outputs": [],
   "source": [
    "from collections.abc import *"
   ]
  },
  {
   "cell_type": "code",
   "execution_count": 15,
   "metadata": {},
   "outputs": [
    {
     "name": "stdout",
     "output_type": "stream",
     "text": [
      "hi\n",
      "bye <class '__main__.MyClass'>\n",
      "===============================================================================\n",
      "hi\n",
      "bye <class '__main__.MyClass'>\n"
     ]
    }
   ],
   "source": [
    "class MyClass:\n",
    "    @staticmethod\n",
    "    def hi():\n",
    "        print('hi')\n",
    "    \n",
    "    @classmethod\n",
    "    def bye(cls):\n",
    "        print('bye', cls)\n",
    "\n",
    "my_class = MyClass()\n",
    "\n",
    "my_class.hi()\n",
    "my_class.bye()\n",
    "print('='*79)\n",
    "MyClass.hi()\n",
    "MyClass.bye()"
   ]
  },
  {
   "cell_type": "code",
   "execution_count": null,
   "metadata": {},
   "outputs": [],
   "source": []
  }
 ],
 "metadata": {
  "kernelspec": {
   "display_name": "venv",
   "language": "python",
   "name": "python3"
  },
  "language_info": {
   "codemirror_mode": {
    "name": "ipython",
    "version": 3
   },
   "file_extension": ".py",
   "mimetype": "text/x-python",
   "name": "python",
   "nbconvert_exporter": "python",
   "pygments_lexer": "ipython3",
   "version": "3.11.0"
  },
  "orig_nbformat": 4
 },
 "nbformat": 4,
 "nbformat_minor": 2
}
