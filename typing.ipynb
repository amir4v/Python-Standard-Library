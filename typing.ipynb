{
 "cells": [
  {
   "cell_type": "code",
   "execution_count": 2,
   "metadata": {},
   "outputs": [],
   "source": [
    "import typing as t\n",
    "from collections.abc import Sequence, Callable, Mapping, Iterable, Sized, Iterator"
   ]
  },
  {
   "cell_type": "code",
   "execution_count": 3,
   "metadata": {},
   "outputs": [
    {
     "data": {
      "text/plain": [
       "typing.Annotated"
      ]
     },
     "execution_count": 3,
     "metadata": {},
     "output_type": "execute_result"
    }
   ],
   "source": [
    "t.Any\n",
    "t.Union\n",
    "t.Unpack\n",
    "t.Set\n",
    "t.AnyStr\n",
    "t.TypeAlias\n",
    "t.Type\n",
    "t.TypeVar\n",
    "t.NewType\n",
    "t.Generic\n",
    "t.ParamSpec\n",
    "t.Literal\n",
    "t.LiteralString\n",
    "t.NoReturn\n",
    "t.Self\n",
    "t.Annotated"
   ]
  },
  {
   "cell_type": "code",
   "execution_count": 8,
   "metadata": {},
   "outputs": [],
   "source": [
    "Vector = list[float]\n",
    "Vector2: t.TypeAlias = list[float]\n",
    "\n",
    "ConnectionOptions = dict[str, str]\n",
    "Address = tuple[str, int]\n",
    "Server = tuple[Address, ConnectionOptions]\n",
    "\n",
    "UserId = t.NewType('UserId', int)\n",
    "Servers = t.NewType('Servers', Sequence[Server])\n",
    "\n",
    "def test(\n",
    "    a: list[float],\n",
    "    b: tuple[int, float, str],\n",
    "    c: dict[float, str],\n",
    "    d: Vector,\n",
    "    servers: Sequence[Server],\n",
    "    e: Callable[[], str],\n",
    "    f: Mapping[str, str]\n",
    ") -> str:\n",
    "    pass"
   ]
  },
  {
   "cell_type": "code",
   "execution_count": 12,
   "metadata": {},
   "outputs": [
    {
     "name": "stdout",
     "output_type": "stream",
     "text": [
      "123\n"
     ]
    }
   ],
   "source": [
    "T = t.TypeVar('T')\n",
    "\n",
    "class LoggedVar(t.Generic[T]):\n",
    "    def __init__(self, value: T, name: str) -> None:\n",
    "        self.value = value\n",
    "        self.name = name\n",
    "    \n",
    "    def set(self, new: T) -> None:\n",
    "        self.value = new\n",
    "\n",
    "    def get(self) -> T:\n",
    "        return self.value\n",
    "\n",
    "lv = LoggedVar(123, 'Amir')\n",
    "print(lv.get())"
   ]
  },
  {
   "cell_type": "code",
   "execution_count": null,
   "metadata": {},
   "outputs": [],
   "source": []
  }
 ],
 "metadata": {
  "kernelspec": {
   "display_name": "venv",
   "language": "python",
   "name": "python3"
  },
  "language_info": {
   "codemirror_mode": {
    "name": "ipython",
    "version": 3
   },
   "file_extension": ".py",
   "mimetype": "text/x-python",
   "name": "python",
   "nbconvert_exporter": "python",
   "pygments_lexer": "ipython3",
   "version": "3.11.0"
  },
  "orig_nbformat": 4
 },
 "nbformat": 4,
 "nbformat_minor": 2
}
