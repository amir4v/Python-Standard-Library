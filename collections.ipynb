{
 "cells": [
  {
   "cell_type": "code",
   "execution_count": 3,
   "metadata": {},
   "outputs": [],
   "source": [
    "import collections as c"
   ]
  },
  {
   "cell_type": "code",
   "execution_count": 4,
   "metadata": {},
   "outputs": [
    {
     "data": {
      "text/plain": [
       "collections.OrderedDict"
      ]
     },
     "execution_count": 4,
     "metadata": {},
     "output_type": "execute_result"
    }
   ],
   "source": [
    "c.Counter\n",
    "c.defaultdict\n",
    "c.deque\n",
    "c.namedtuple\n",
    "c.OrderedDict"
   ]
  },
  {
   "cell_type": "code",
   "execution_count": 6,
   "metadata": {},
   "outputs": [
    {
     "data": {
      "text/plain": [
       "Counter({'k': 3, 'j': 2, 'a': 1, 'b': 1, 'c': 1, 'i': 1})"
      ]
     },
     "execution_count": 6,
     "metadata": {},
     "output_type": "execute_result"
    }
   ],
   "source": [
    "c.Counter('abcijjkkk')"
   ]
  },
  {
   "cell_type": "code",
   "execution_count": 12,
   "metadata": {},
   "outputs": [
    {
     "name": "stdout",
     "output_type": "stream",
     "text": [
      "A\n",
      "the-default-value\n"
     ]
    }
   ],
   "source": [
    "def default_value():\n",
    "    return 'the-default-value'\n",
    "dd = c.defaultdict(default_value)\n",
    "dd['a'] = 'A'\n",
    "print(dd['a'])\n",
    "print(dd['a-key'])"
   ]
  },
  {
   "cell_type": "code",
   "execution_count": 14,
   "metadata": {},
   "outputs": [
    {
     "name": "stdout",
     "output_type": "stream",
     "text": [
      "5\n",
      "1\n",
      "6\n",
      "7\n"
     ]
    }
   ],
   "source": [
    "dq = c.deque([1,2,3,4,5])\n",
    "print(dq.pop())\n",
    "print(dq.popleft())\n",
    "dq.append(6)\n",
    "dq.appendleft(7)\n",
    "print(dq.pop())\n",
    "print(dq.popleft())"
   ]
  },
  {
   "cell_type": "code",
   "execution_count": 17,
   "metadata": {},
   "outputs": [
    {
     "name": "stdout",
     "output_type": "stream",
     "text": [
      "<class '__main__.Person'>\n",
      "Amir\n"
     ]
    }
   ],
   "source": [
    "prsn = c.namedtuple('Person', ['name', 'age'])\n",
    "print(prsn)\n",
    "prsn.name = 'Amir'\n",
    "print(prsn.name)"
   ]
  },
  {
   "cell_type": "code",
   "execution_count": 19,
   "metadata": {},
   "outputs": [
    {
     "name": "stdout",
     "output_type": "stream",
     "text": [
      "OrderedDict([('a', 1), ('b', 2)])\n",
      "OrderedDict([('a', 1), ('b', 2)])\n"
     ]
    }
   ],
   "source": [
    "od = c.OrderedDict([('a', 1), ('b', 2)])\n",
    "print(od)\n",
    "print(od)"
   ]
  },
  {
   "cell_type": "code",
   "execution_count": null,
   "metadata": {},
   "outputs": [],
   "source": []
  }
 ],
 "metadata": {
  "kernelspec": {
   "display_name": "Python 3",
   "language": "python",
   "name": "python3"
  },
  "language_info": {
   "codemirror_mode": {
    "name": "ipython",
    "version": 3
   },
   "file_extension": ".py",
   "mimetype": "text/x-python",
   "name": "python",
   "nbconvert_exporter": "python",
   "pygments_lexer": "ipython3",
   "version": "3.11.0"
  },
  "orig_nbformat": 4
 },
 "nbformat": 4,
 "nbformat_minor": 2
}
