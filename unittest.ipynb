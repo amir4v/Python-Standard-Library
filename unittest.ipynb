{
 "cells": [
  {
   "cell_type": "code",
   "execution_count": 5,
   "metadata": {},
   "outputs": [],
   "source": [
    "import unittest\n",
    "from unittest import *"
   ]
  },
  {
   "cell_type": "code",
   "execution_count": 3,
   "metadata": {},
   "outputs": [
    {
     "data": {
      "text/plain": [
       "<function unittest.case.TestCase.assertEqual(self, first, second, msg=None)>"
      ]
     },
     "execution_count": 3,
     "metadata": {},
     "output_type": "execute_result"
    }
   ],
   "source": [
    "TestCase\n",
    "TestSuite\n",
    "TextTestRunner\n",
    "TextTestResult\n",
    "FunctionTestCase\n",
    "skip\n",
    "skipIf\n",
    "skipUnless\n",
    "expectedFailure\n",
    "SkipTest\n",
    "TestCase.assertEqual\n",
    "        # ..."
   ]
  },
  {
   "cell_type": "code",
   "execution_count": 7,
   "metadata": {},
   "outputs": [],
   "source": [
    "class TestSum(TestCase):\n",
    "    def test_sum_between_two_numbers(self):\n",
    "        self.assertEqual(sum((1,2,3)), 6, \"Error Message: Must be 6\")"
   ]
  },
  {
   "cell_type": "code",
   "execution_count": 10,
   "metadata": {},
   "outputs": [],
   "source": [
    "# $ python -m unittest test(means test.py)\n",
    "# $ python -m unittest -v test(means test.py)"
   ]
  },
  {
   "cell_type": "code",
   "execution_count": 11,
   "metadata": {},
   "outputs": [],
   "source": [
    "class TestSum(TestCase):\n",
    "    def setUp(self):\n",
    "        self.data = [1,2,3,4,'Data']\n",
    "        self.user = 'user'\n",
    "        self.api_client = 'api_client'\n",
    "    \n",
    "    def test_sum_between_two_numbers(self):\n",
    "        self.assertEqual(sum((1,2,3)), 6, \"Error Message: Must be 6\")\n",
    "    \n",
    "    def test_user(self):\n",
    "        return self.assertEqual(self.user, 'user')"
   ]
  },
  {
   "cell_type": "code",
   "execution_count": 12,
   "metadata": {},
   "outputs": [],
   "source": [
    "class TestSum(TestCase):\n",
    "    def setUp(self): # Set-Up\n",
    "        self.data = [1,2,3,4,'Data']\n",
    "        self.user = 'user'\n",
    "        self.api_client = 'api_client'\n",
    "    \n",
    "    def tearDown(self): # Tear-Down\n",
    "        self.data = []\n",
    "        self.user = None\n",
    "        self.api_client = None\n",
    "    \n",
    "    def test_sum_between_two_numbers(self):\n",
    "        self.assertEqual(sum((1,2,3)), 6, \"Error Message: Must be 6\")\n",
    "    \n",
    "    def test_user(self):\n",
    "        return self.assertEqual(self.user, 'user')"
   ]
  },
  {
   "cell_type": "code",
   "execution_count": null,
   "metadata": {},
   "outputs": [],
   "source": []
  }
 ],
 "metadata": {
  "kernelspec": {
   "display_name": "venv",
   "language": "python",
   "name": "python3"
  },
  "language_info": {
   "codemirror_mode": {
    "name": "ipython",
    "version": 3
   },
   "file_extension": ".py",
   "mimetype": "text/x-python",
   "name": "python",
   "nbconvert_exporter": "python",
   "pygments_lexer": "ipython3",
   "version": "3.11.0"
  },
  "orig_nbformat": 4
 },
 "nbformat": 4,
 "nbformat_minor": 2
}
