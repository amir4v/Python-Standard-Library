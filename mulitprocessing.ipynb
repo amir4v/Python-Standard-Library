{
 "cells": [
  {
   "cell_type": "code",
   "execution_count": 1,
   "metadata": {},
   "outputs": [],
   "source": [
    "from multiprocessing import *"
   ]
  },
  {
   "cell_type": "code",
   "execution_count": 2,
   "metadata": {},
   "outputs": [
    {
     "data": {
      "text/plain": [
       "<bound method BaseContext.Manager of <multiprocessing.context.DefaultContext object at 0x00000254832AB710>>"
      ]
     },
     "execution_count": 2,
     "metadata": {},
     "output_type": "execute_result"
    }
   ],
   "source": [
    "Pool\n",
    "Process\n",
    "Value\n",
    "Array\n",
    "Queue\n",
    "Pipe\n",
    "Lock\n",
    "Manager"
   ]
  },
  {
   "cell_type": "code",
   "execution_count": 3,
   "metadata": {},
   "outputs": [],
   "source": [
    "# the Pool object which offers a convenient means of parallelizing the execution of a function across multiple input values,\n",
    "# distributing the input data across processes (data parallelism)."
   ]
  },
  {
   "cell_type": "code",
   "execution_count": 4,
   "metadata": {},
   "outputs": [],
   "source": [
    "import os\n",
    "\n",
    "def print_name(name):\n",
    "    # os.getpid()\n",
    "    print(f'Hello {name}')\n",
    "\n",
    "p = Process(target=print_name, args=('Amir',))\n",
    "p.start()\n",
    "p.join()"
   ]
  },
  {
   "cell_type": "code",
   "execution_count": 5,
   "metadata": {},
   "outputs": [
    {
     "data": {
      "text/plain": [
       "\"\\ndef foo(q):\\n    q.put('hello')\\n\\nq = Queue()\\np = Process(target=foo, args=(q,))\\np.start()\\nprint(q.get())\\np.join()\\n\""
      ]
     },
     "execution_count": 5,
     "metadata": {},
     "output_type": "execute_result"
    }
   ],
   "source": [
    "\"\"\"\n",
    "def foo(q):\n",
    "    q.put('hello')\n",
    "\n",
    "q = Queue()\n",
    "p = Process(target=foo, args=(q,))\n",
    "p.start()\n",
    "print(q.get())\n",
    "p.join()\n",
    "\"\"\""
   ]
  },
  {
   "cell_type": "code",
   "execution_count": 6,
   "metadata": {},
   "outputs": [
    {
     "data": {
      "text/plain": [
       "8"
      ]
     },
     "execution_count": 6,
     "metadata": {},
     "output_type": "execute_result"
    }
   ],
   "source": [
    "cpu_count()"
   ]
  },
  {
   "cell_type": "code",
   "execution_count": 7,
   "metadata": {},
   "outputs": [
    {
     "name": "stdout",
     "output_type": "stream",
     "text": [
      "1\n",
      "2\n",
      "3\n"
     ]
    }
   ],
   "source": [
    "q = Queue()\n",
    "q.put(1)\n",
    "q.put(2)\n",
    "q.put(3)\n",
    "while not q.empty():\n",
    "    print(q.get())"
   ]
  },
  {
   "cell_type": "code",
   "execution_count": 8,
   "metadata": {},
   "outputs": [],
   "source": [
    "from multiprocessing import Process\n",
    "import os\n",
    "\n",
    "def square_numbers():\n",
    "    for i in range(100):\n",
    "        i*i\n",
    "\n",
    "\n",
    "processes = []\n",
    "num_processes = os.cpu_count()\n",
    "# Number of CPUs (CPU cores) on the machine. Usually a good choice for the number of processes\n",
    "\n",
    "for i in range(num_processes):\n",
    "    process = Process(target=square_numbers)\n",
    "    processes.append(process)\n",
    "\n",
    "for process in processes:\n",
    "    process.start()\n",
    "\n",
    "# wait for all processes to finish\n",
    "# block the main programm untill these processes are finished\n",
    "for process in processes:\n",
    "    process.join()"
   ]
  },
  {
   "cell_type": "code",
   "execution_count": 9,
   "metadata": {},
   "outputs": [
    {
     "name": "stdout",
     "output_type": "stream",
     "text": [
      "Number at beginning is 0\n",
      "Number at end is 0\n"
     ]
    }
   ],
   "source": [
    "from multiprocessing import Process, Value\n",
    "import time\n",
    "\n",
    "def add_100(number):\n",
    "    for i in range(100):\n",
    "        time.sleep(0.01)\n",
    "        number.value += 1\n",
    "\n",
    "\n",
    "shared_number = Value('i', 0) # 'i'==int , 0==default-value\n",
    "print(f\"Number at beginning is {shared_number.value}\")\n",
    "\n",
    "process1 = Process(target=add_100, args=(shared_number,))\n",
    "process2 = Process(target=add_100, args=(shared_number,))\n",
    "\n",
    "process1.start()\n",
    "process2.start()\n",
    "\n",
    "process1.join()\n",
    "process2.join()\n",
    "\n",
    "print(f\"Number at end is {shared_number.value}\")"
   ]
  },
  {
   "cell_type": "code",
   "execution_count": 10,
   "metadata": {},
   "outputs": [
    {
     "name": "stdout",
     "output_type": "stream",
     "text": [
      "Number at beginning is 0\n",
      "Number at end is 0\n"
     ]
    }
   ],
   "source": [
    "from multiprocessing import Process, Value, Lock\n",
    "import time\n",
    "\n",
    "def add_100(number, lock):\n",
    "    for i in range(100):\n",
    "        time.sleep(0.01)\n",
    "        lock.acquire() # اندوختن, بدست اوردن, پیدا کردن, حاصل کردن\n",
    "        number.value += 1\n",
    "        lock.release()\n",
    "\n",
    "\n",
    "shared_number = Value('i', 0) # 'i'==int , 0==default-value\n",
    "print(f\"Number at beginning is {shared_number.value}\")\n",
    "\n",
    "lock = Lock()\n",
    "\n",
    "process1 = Process(target=add_100, args=(shared_number,lock))\n",
    "process2 = Process(target=add_100, args=(shared_number,lock))\n",
    "\n",
    "process1.start()\n",
    "process2.start()\n",
    "\n",
    "process1.join()\n",
    "process2.join()\n",
    "\n",
    "print(f\"Number at end is {shared_number.value}\")"
   ]
  },
  {
   "cell_type": "code",
   "execution_count": 11,
   "metadata": {},
   "outputs": [
    {
     "name": "stdout",
     "output_type": "stream",
     "text": [
      "Number at beginning is 0\n",
      "Number at end is 0\n"
     ]
    }
   ],
   "source": [
    "from multiprocessing import Process, Value, Array, Lock\n",
    "import time\n",
    "\n",
    "def add_100(number, lock):\n",
    "    for i in range(100):\n",
    "        time.sleep(0.01)\n",
    "        with lock:\n",
    "            number.value += 1\n",
    "\n",
    "\n",
    "shared_number = Value('i', 0) # 'i'==int , 0==default-value\n",
    "print(f\"Number at beginning is {shared_number.value}\")\n",
    "\n",
    "lock = Lock()\n",
    "\n",
    "process1 = Process(target=add_100, args=(shared_number,lock))\n",
    "process2 = Process(target=add_100, args=(shared_number,lock))\n",
    "\n",
    "process1.start()\n",
    "process2.start()\n",
    "\n",
    "process1.join()\n",
    "process2.join()\n",
    "\n",
    "print(f\"Number at end is {shared_number.value}\")"
   ]
  },
  {
   "cell_type": "code",
   "execution_count": 14,
   "metadata": {},
   "outputs": [
    {
     "name": "stdout",
     "output_type": "stream",
     "text": [
      "Array at beginning is [0.0, 100.0, 200.0]\n",
      "Array at end is [0.0, 100.0, 200.0]\n"
     ]
    }
   ],
   "source": [
    "from multiprocessing import Process, Array, Lock\n",
    "import time\n",
    "\n",
    "def add_100(numbers, lock):\n",
    "    for i in range(100):\n",
    "        time.sleep(0.01)\n",
    "        for j in range(len(numbers)):\n",
    "            numbers[j] += 1\n",
    "\n",
    "if __name__ == \"__main__\":\n",
    "    shared_array = Array('d', [0.0, 100.0, 200.0]) # 'd'==double , [0.0, 100.0, 200.0]==default-value\n",
    "    print(f\"Array at beginning is {shared_array[:]}\")\n",
    "    \n",
    "    lock = Lock()\n",
    "    \n",
    "    process1 = Process(target=add_100, args=(shared_array,lock))\n",
    "    process2 = Process(target=add_100, args=(shared_array,lock))\n",
    "    \n",
    "    process1.start()\n",
    "    process2.start()\n",
    "    \n",
    "    process1.join()\n",
    "    process2.join()\n",
    "    \n",
    "    print(f\"Array at end is {shared_array[:]}\")"
   ]
  },
  {
   "cell_type": "code",
   "execution_count": 16,
   "metadata": {},
   "outputs": [
    {
     "name": "stdout",
     "output_type": "stream",
     "text": [
      "Array at beginning is [0.0, 100.0, 200.0]\n",
      "Array at end is [0.0, 100.0, 200.0]\n"
     ]
    }
   ],
   "source": [
    "from multiprocessing import Process, Array, Lock\n",
    "import time\n",
    "\n",
    "def add_100(numbers, lock):\n",
    "    for i in range(100):\n",
    "        time.sleep(0.01)\n",
    "        for j in range(len(numbers)):\n",
    "            with lock:\n",
    "                numbers[j] += 1\n",
    "\n",
    "if __name__ == \"__main__\":\n",
    "    shared_array = Array('d', [0.0, 100.0, 200.0]) # 'd'==double , [0.0, 100.0, 200.0]==default-value\n",
    "    print(f\"Array at beginning is {shared_array[:]}\")\n",
    "    \n",
    "    lock = Lock()\n",
    "    \n",
    "    process1 = Process(target=add_100, args=(shared_array,lock))\n",
    "    process2 = Process(target=add_100, args=(shared_array,lock))\n",
    "    \n",
    "    process1.start()\n",
    "    process2.start()\n",
    "    \n",
    "    process1.join()\n",
    "    process2.join()\n",
    "    \n",
    "    print(f\"Array at end is {shared_array[:]}\")"
   ]
  },
  {
   "cell_type": "code",
   "execution_count": 18,
   "metadata": {},
   "outputs": [],
   "source": [
    "from multiprocessing import Process\n",
    "from multiprocessing import Queue # This Queue does not have .task_done() and .join() methods\n",
    "\n",
    "def square(numbers, q):\n",
    "    for i in numbers:\n",
    "        q.put(i*i)\n",
    "\n",
    "def make_negative(numbers, q):\n",
    "    for i in numbers:\n",
    "        q.put(-1*i)\n",
    "\n",
    "if __name__ == \"__main__\":\n",
    "    \n",
    "    numbers = range(1,6)\n",
    "    q = Queue()\n",
    "    \n",
    "    p1 = Process(target=square, args=(numbers, q))\n",
    "    p2 = Process(target=make_negative, args=(numbers, q))\n",
    "    \n",
    "    p1.start()\n",
    "    p2.start()\n",
    "    \n",
    "    p1.join()\n",
    "    p2.join()\n",
    "    \n",
    "    while(not q.empty()):\n",
    "        print(q.get())"
   ]
  },
  {
   "cell_type": "code",
   "execution_count": 1,
   "metadata": {},
   "outputs": [],
   "source": [
    "from multiprocessing import Pool\n",
    "\n",
    "def cube(number):\n",
    "    return number*number*number\n",
    "\n",
    "if __name__ == \"__main__\":\n",
    "    \n",
    "    numbers = range(1,10)\n",
    "    \n",
    "    pool = Pool()\n",
    "    # important methods: map,apply,join,close\n",
    "    \n",
    "    result = pool.map(cube, numbers) # this will creates how many Process that your machine is capable and will do it (this specific function) in all of these Processes\n",
    "    # result = pool.map(cube, range(1,5))\n",
    "    \n",
    "    pool.close()\n",
    "    pool.join()\n",
    "    \n",
    "    print(result)"
   ]
  },
  {
   "cell_type": "code",
   "execution_count": 1,
   "metadata": {},
   "outputs": [],
   "source": [
    "from multiprocessing import Pool\n",
    "\n",
    "def cube(number):\n",
    "    return number*number*number\n",
    "\n",
    "if __name__ == \"__main__\":\n",
    "    \n",
    "    numbers = range(1,10)\n",
    "    \n",
    "    pool = Pool()\n",
    "    # important methods: map,apply,join,close\n",
    "    \n",
    "    # result = pool.map(cube, numbers) # this will creates how many Process that your machine is capable and will do it (this specific function) in all of these Processes\n",
    "    \n",
    "    result = pool.apply(cube, (numbers[5],) ) # like map BUT does apply the function (cube) to a single value\n",
    "    # result = pool.apply(cube, numbers) # in jori ham mishe vali injori hameye element haye numbers ro (ya iterable ro) yekja mide be cube (function), mesle inke yedafe 10 ta argument ro pass mide be cube function\n",
    "    \n",
    "    # AND _async functions of Pool class #\n",
    "    \n",
    "    pool.close()\n",
    "    pool.join()\n",
    "    \n",
    "    print(result)"
   ]
  },
  {
   "cell_type": "code",
   "execution_count": null,
   "metadata": {},
   "outputs": [],
   "source": []
  }
 ],
 "metadata": {
  "kernelspec": {
   "display_name": "venv",
   "language": "python",
   "name": "python3"
  },
  "language_info": {
   "codemirror_mode": {
    "name": "ipython",
    "version": 3
   },
   "file_extension": ".py",
   "mimetype": "text/x-python",
   "name": "python",
   "nbconvert_exporter": "python",
   "pygments_lexer": "ipython3",
   "version": "3.11.0"
  },
  "orig_nbformat": 4
 },
 "nbformat": 4,
 "nbformat_minor": 2
}
