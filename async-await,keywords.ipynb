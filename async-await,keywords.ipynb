{
 "cells": [
  {
   "cell_type": "code",
   "execution_count": 1,
   "metadata": {},
   "outputs": [],
   "source": [
    "# async\n",
    "# await\n",
    "import asyncio\n",
    "import time\n",
    "import threading as th\n",
    "import multiprocessing as mp"
   ]
  },
  {
   "cell_type": "code",
   "execution_count": 5,
   "metadata": {},
   "outputs": [
    {
     "name": "stdout",
     "output_type": "stream",
     "text": [
      "Task A: Computing 0+1\n",
      "Time: 0.00\n",
      "Task A: Computing 1+2\n",
      "Time: 0.50\n",
      "Task A: Sum = 3\n",
      "\n",
      "Task B: Computing 0+1\n",
      "Time: 1.00\n",
      "Task B: Computing 1+2\n",
      "Time: 1.50\n",
      "Task B: Computing 3+3\n",
      "Time: 2.01\n",
      "Task B: Sum = 6\n",
      "\n",
      "Time: 2.51 sec\n"
     ]
    }
   ],
   "source": [
    "# Case 1: just normal Python\n",
    "\n",
    "import time\n",
    "\n",
    "def sleep():\n",
    "    print(f'Time: {time.time() - start:.2f}')\n",
    "    time.sleep(0.5)\n",
    "\n",
    "def sum(name, numbers):\n",
    "    total = 0\n",
    "    for number in numbers:\n",
    "        print(f'Task {name}: Computing {total}+{number}')\n",
    "        sleep()\n",
    "        total += number\n",
    "    print(f'Task {name}: Sum = {total}\\n')\n",
    "\n",
    "start = time.time()\n",
    "tasks = [\n",
    "    sum(\"A\", [1, 2]),\n",
    "    sum(\"B\", [1, 2, 3]),\n",
    "]\n",
    "end = time.time()\n",
    "print(f'Time: {end-start:.2f} sec')"
   ]
  },
  {
   "cell_type": "code",
   "execution_count": 6,
   "metadata": {},
   "outputs": [
    {
     "ename": "RuntimeError",
     "evalue": "This event loop is already running",
     "output_type": "error",
     "traceback": [
      "\u001b[1;31m---------------------------------------------------------------------------\u001b[0m",
      "\u001b[1;31mRuntimeError\u001b[0m                              Traceback (most recent call last)",
      "Cell \u001b[1;32mIn[6], line 25\u001b[0m\n\u001b[0;32m     20\u001b[0m loop \u001b[39m=\u001b[39m asyncio\u001b[39m.\u001b[39mget_event_loop()\n\u001b[0;32m     21\u001b[0m tasks \u001b[39m=\u001b[39m [\n\u001b[0;32m     22\u001b[0m     loop\u001b[39m.\u001b[39mcreate_task(\u001b[39msum\u001b[39m(\u001b[39m\"\u001b[39m\u001b[39mA\u001b[39m\u001b[39m\"\u001b[39m, [\u001b[39m1\u001b[39m, \u001b[39m2\u001b[39m])),\n\u001b[0;32m     23\u001b[0m     loop\u001b[39m.\u001b[39mcreate_task(\u001b[39msum\u001b[39m(\u001b[39m\"\u001b[39m\u001b[39mB\u001b[39m\u001b[39m\"\u001b[39m, [\u001b[39m1\u001b[39m, \u001b[39m2\u001b[39m, \u001b[39m3\u001b[39m])),\n\u001b[0;32m     24\u001b[0m ]\n\u001b[1;32m---> 25\u001b[0m loop\u001b[39m.\u001b[39;49mrun_until_complete(asyncio\u001b[39m.\u001b[39;49mwait(tasks))\n\u001b[0;32m     26\u001b[0m loop\u001b[39m.\u001b[39mclose()\n\u001b[0;32m     28\u001b[0m end \u001b[39m=\u001b[39m time\u001b[39m.\u001b[39mtime()\n",
      "File \u001b[1;32m~\\AppData\\Local\\Programs\\Python\\Python311\\Lib\\asyncio\\base_events.py:626\u001b[0m, in \u001b[0;36mBaseEventLoop.run_until_complete\u001b[1;34m(self, future)\u001b[0m\n\u001b[0;32m    615\u001b[0m \u001b[39m\u001b[39m\u001b[39m\"\"\"Run until the Future is done.\u001b[39;00m\n\u001b[0;32m    616\u001b[0m \n\u001b[0;32m    617\u001b[0m \u001b[39mIf the argument is a coroutine, it is wrapped in a Task.\u001b[39;00m\n\u001b[1;32m   (...)\u001b[0m\n\u001b[0;32m    623\u001b[0m \u001b[39mReturn the Future's result, or raise its exception.\u001b[39;00m\n\u001b[0;32m    624\u001b[0m \u001b[39m\"\"\"\u001b[39;00m\n\u001b[0;32m    625\u001b[0m \u001b[39mself\u001b[39m\u001b[39m.\u001b[39m_check_closed()\n\u001b[1;32m--> 626\u001b[0m \u001b[39mself\u001b[39;49m\u001b[39m.\u001b[39;49m_check_running()\n\u001b[0;32m    628\u001b[0m new_task \u001b[39m=\u001b[39m \u001b[39mnot\u001b[39;00m futures\u001b[39m.\u001b[39misfuture(future)\n\u001b[0;32m    629\u001b[0m future \u001b[39m=\u001b[39m tasks\u001b[39m.\u001b[39mensure_future(future, loop\u001b[39m=\u001b[39m\u001b[39mself\u001b[39m)\n",
      "File \u001b[1;32m~\\AppData\\Local\\Programs\\Python\\Python311\\Lib\\asyncio\\base_events.py:586\u001b[0m, in \u001b[0;36mBaseEventLoop._check_running\u001b[1;34m(self)\u001b[0m\n\u001b[0;32m    584\u001b[0m \u001b[39mdef\u001b[39;00m \u001b[39m_check_running\u001b[39m(\u001b[39mself\u001b[39m):\n\u001b[0;32m    585\u001b[0m     \u001b[39mif\u001b[39;00m \u001b[39mself\u001b[39m\u001b[39m.\u001b[39mis_running():\n\u001b[1;32m--> 586\u001b[0m         \u001b[39mraise\u001b[39;00m \u001b[39mRuntimeError\u001b[39;00m(\u001b[39m'\u001b[39m\u001b[39mThis event loop is already running\u001b[39m\u001b[39m'\u001b[39m)\n\u001b[0;32m    587\u001b[0m     \u001b[39mif\u001b[39;00m events\u001b[39m.\u001b[39m_get_running_loop() \u001b[39mis\u001b[39;00m \u001b[39mnot\u001b[39;00m \u001b[39mNone\u001b[39;00m:\n\u001b[0;32m    588\u001b[0m         \u001b[39mraise\u001b[39;00m \u001b[39mRuntimeError\u001b[39;00m(\n\u001b[0;32m    589\u001b[0m             \u001b[39m'\u001b[39m\u001b[39mCannot run the event loop while another loop is running\u001b[39m\u001b[39m'\u001b[39m)\n",
      "\u001b[1;31mRuntimeError\u001b[0m: This event loop is already running"
     ]
    },
    {
     "name": "stdout",
     "output_type": "stream",
     "text": [
      "Task A: Computing 0+1\n",
      "Time: 1.47\n",
      "Task A: Computing 1+2\n",
      "Time: 1.97\n",
      "Task A: Sum = 3\n",
      "\n",
      "Task B: Computing 0+1\n",
      "Time: 2.47\n",
      "Task B: Computing 1+2\n",
      "Time: 2.97\n",
      "Task B: Computing 3+3\n",
      "Time: 3.48\n",
      "Task B: Sum = 6\n",
      "\n"
     ]
    }
   ],
   "source": [
    "# Case 2: async/await done wrong\n",
    "\n",
    "import asyncio\n",
    "import time\n",
    "\n",
    "async def sleep():\n",
    "    print(f'Time: {time.time() - start:.2f}')\n",
    "    time.sleep(0.5)\n",
    "\n",
    "async def sum(name, numbers):\n",
    "    total = 0\n",
    "    for number in numbers:\n",
    "        print(f'Task {name}: Computing {total}+{number}')\n",
    "        await sleep()\n",
    "        total += number\n",
    "    print(f'Task {name}: Sum = {total}\\n')\n",
    "\n",
    "start = time.time()\n",
    "\n",
    "loop = asyncio.get_event_loop()\n",
    "tasks = [\n",
    "    loop.create_task(sum(\"A\", [1, 2])),\n",
    "    loop.create_task(sum(\"B\", [1, 2, 3])),\n",
    "]\n",
    "loop.run_until_complete(asyncio.wait(tasks))\n",
    "loop.close()\n",
    "\n",
    "end = time.time()\n",
    "print(f'Time: {end-start:.2f} sec')"
   ]
  },
  {
   "cell_type": "code",
   "execution_count": 7,
   "metadata": {},
   "outputs": [
    {
     "ename": "RuntimeError",
     "evalue": "This event loop is already running",
     "output_type": "error",
     "traceback": [
      "\u001b[1;31m---------------------------------------------------------------------------\u001b[0m",
      "\u001b[1;31mRuntimeError\u001b[0m                              Traceback (most recent call last)",
      "Cell \u001b[1;32mIn[7], line 25\u001b[0m\n\u001b[0;32m     20\u001b[0m loop \u001b[39m=\u001b[39m asyncio\u001b[39m.\u001b[39mget_event_loop()\n\u001b[0;32m     21\u001b[0m tasks \u001b[39m=\u001b[39m [\n\u001b[0;32m     22\u001b[0m     loop\u001b[39m.\u001b[39mcreate_task(\u001b[39msum\u001b[39m(\u001b[39m\"\u001b[39m\u001b[39mA\u001b[39m\u001b[39m\"\u001b[39m, [\u001b[39m1\u001b[39m, \u001b[39m2\u001b[39m])),\n\u001b[0;32m     23\u001b[0m     loop\u001b[39m.\u001b[39mcreate_task(\u001b[39msum\u001b[39m(\u001b[39m\"\u001b[39m\u001b[39mB\u001b[39m\u001b[39m\"\u001b[39m, [\u001b[39m1\u001b[39m, \u001b[39m2\u001b[39m, \u001b[39m3\u001b[39m])),\n\u001b[0;32m     24\u001b[0m ]\n\u001b[1;32m---> 25\u001b[0m loop\u001b[39m.\u001b[39;49mrun_until_complete(asyncio\u001b[39m.\u001b[39;49mwait(tasks))\n\u001b[0;32m     26\u001b[0m loop\u001b[39m.\u001b[39mclose()\n\u001b[0;32m     28\u001b[0m end \u001b[39m=\u001b[39m time\u001b[39m.\u001b[39mtime()\n",
      "File \u001b[1;32m~\\AppData\\Local\\Programs\\Python\\Python311\\Lib\\asyncio\\base_events.py:626\u001b[0m, in \u001b[0;36mBaseEventLoop.run_until_complete\u001b[1;34m(self, future)\u001b[0m\n\u001b[0;32m    615\u001b[0m \u001b[39m\u001b[39m\u001b[39m\"\"\"Run until the Future is done.\u001b[39;00m\n\u001b[0;32m    616\u001b[0m \n\u001b[0;32m    617\u001b[0m \u001b[39mIf the argument is a coroutine, it is wrapped in a Task.\u001b[39;00m\n\u001b[1;32m   (...)\u001b[0m\n\u001b[0;32m    623\u001b[0m \u001b[39mReturn the Future's result, or raise its exception.\u001b[39;00m\n\u001b[0;32m    624\u001b[0m \u001b[39m\"\"\"\u001b[39;00m\n\u001b[0;32m    625\u001b[0m \u001b[39mself\u001b[39m\u001b[39m.\u001b[39m_check_closed()\n\u001b[1;32m--> 626\u001b[0m \u001b[39mself\u001b[39;49m\u001b[39m.\u001b[39;49m_check_running()\n\u001b[0;32m    628\u001b[0m new_task \u001b[39m=\u001b[39m \u001b[39mnot\u001b[39;00m futures\u001b[39m.\u001b[39misfuture(future)\n\u001b[0;32m    629\u001b[0m future \u001b[39m=\u001b[39m tasks\u001b[39m.\u001b[39mensure_future(future, loop\u001b[39m=\u001b[39m\u001b[39mself\u001b[39m)\n",
      "File \u001b[1;32m~\\AppData\\Local\\Programs\\Python\\Python311\\Lib\\asyncio\\base_events.py:586\u001b[0m, in \u001b[0;36mBaseEventLoop._check_running\u001b[1;34m(self)\u001b[0m\n\u001b[0;32m    584\u001b[0m \u001b[39mdef\u001b[39;00m \u001b[39m_check_running\u001b[39m(\u001b[39mself\u001b[39m):\n\u001b[0;32m    585\u001b[0m     \u001b[39mif\u001b[39;00m \u001b[39mself\u001b[39m\u001b[39m.\u001b[39mis_running():\n\u001b[1;32m--> 586\u001b[0m         \u001b[39mraise\u001b[39;00m \u001b[39mRuntimeError\u001b[39;00m(\u001b[39m'\u001b[39m\u001b[39mThis event loop is already running\u001b[39m\u001b[39m'\u001b[39m)\n\u001b[0;32m    587\u001b[0m     \u001b[39mif\u001b[39;00m events\u001b[39m.\u001b[39m_get_running_loop() \u001b[39mis\u001b[39;00m \u001b[39mnot\u001b[39;00m \u001b[39mNone\u001b[39;00m:\n\u001b[0;32m    588\u001b[0m         \u001b[39mraise\u001b[39;00m \u001b[39mRuntimeError\u001b[39;00m(\n\u001b[0;32m    589\u001b[0m             \u001b[39m'\u001b[39m\u001b[39mCannot run the event loop while another loop is running\u001b[39m\u001b[39m'\u001b[39m)\n",
      "\u001b[1;31mRuntimeError\u001b[0m: This event loop is already running"
     ]
    },
    {
     "name": "stdout",
     "output_type": "stream",
     "text": [
      "Task A: Computing 0+1\n",
      "Time: 0.08\n",
      "Task B: Computing 0+1\n",
      "Time: 0.08\n",
      "Task A: Computing 1+2\n",
      "Time: 1.09\n",
      "Task B: Computing 1+2\n",
      "Time: 1.09\n",
      "Task A: Sum = 3\n",
      "\n",
      "Task B: Computing 3+3\n",
      "Time: 2.10\n",
      "Task B: Sum = 6\n",
      "\n"
     ]
    }
   ],
   "source": [
    "# Case 3: async/await done right\n",
    "\n",
    "import asyncio\n",
    "import time\n",
    "\n",
    "async def sleep():\n",
    "    print(f'Time: {time.time() - start:.2f}')\n",
    "    await asyncio.sleep(1)\n",
    "\n",
    "async def sum(name, numbers):\n",
    "    total = 0\n",
    "    for number in numbers:\n",
    "        print(f'Task {name}: Computing {total}+{number}')\n",
    "        await sleep()\n",
    "        total += number\n",
    "    print(f'Task {name}: Sum = {total}\\n')\n",
    "\n",
    "start = time.time()\n",
    "\n",
    "loop = asyncio.get_event_loop()\n",
    "tasks = [\n",
    "    loop.create_task(sum(\"A\", [1, 2])),\n",
    "    loop.create_task(sum(\"B\", [1, 2, 3])),\n",
    "]\n",
    "loop.run_until_complete(asyncio.wait(tasks))\n",
    "loop.close()\n",
    "\n",
    "end = time.time()\n",
    "print(f'Time: {end-start:.2f} sec')"
   ]
  },
  {
   "cell_type": "code",
   "execution_count": 10,
   "metadata": {},
   "outputs": [],
   "source": [
    "# Generally, “async” defines a coroutine, and “await” suspends or yields execution to another coroutine from within a coroutine.\n",
    "\n",
    "# Async/await was introduced in Python version 3.5.\n",
    "\n",
    "# Async refers to a suite of expressions for working with coroutines.\n",
    "# This includes:\n",
    "#     “async def” for defining a coroutine.\n",
    "#     “async for” for traversing an asynchronous iterable.\n",
    "#     “async with” for using an asynchronous context manager.\n",
    "# The “async def” expression defines a coroutine, but the “async for” and “async with” expressions can only be used within a coroutine,\n",
    "# e.g. within an “async def” expression.\n",
    "\n",
    "# Note that both async for and async with can only be used inside a coroutine function declared with async def.\n",
    "\n",
    "# A coroutine defined with the “async def” expression is referred to as a “coroutine function“\n",
    "\n",
    "# coroutine function: A function which returns a coroutine object.\n",
    "# A coroutine function may be defined with the async def statement,\n",
    "# and may contain await, async for, and async with keywords.\n",
    "\n",
    "# The “async for” expression is used to traverse an asynchronous iterator.\n",
    "# It is an asynchronous for-loop statement.\n",
    "# An asynchronous iterator is an iterator that yields awaitables.\n",
    "\n",
    "# traverse an asynchronous iterator\n",
    "# async_iterator = \"\"\" a function that returns asynchronously, async_iterator \"\"\"\n",
    "# async for item in async_iterator:\n",
    "# \tprint(item)\n",
    "\n",
    "# Await refers to the “await” expression used with coroutines.\n",
    "# It can only be used within a coroutine and is used to yield execution to an awaitable.\n",
    "# An awaitable may be another coroutine or a coroutine wrapped in a Task object for independent execution.\n",
    "# Put another way, await will cause the caller coroutine to suspend execution at that point and wait for the given awaitable to be done."
   ]
  },
  {
   "cell_type": "code",
   "execution_count": 26,
   "metadata": {},
   "outputs": [
    {
     "data": {
      "text/plain": [
       "'\\n# Immediately\\nOne\\nOne\\nOne\\n# After one second\\nTwo\\nTwo\\nTwo\\n'"
      ]
     },
     "execution_count": 26,
     "metadata": {},
     "output_type": "execute_result"
    }
   ],
   "source": [
    "async def count():\n",
    "    print(\"One\")\n",
    "    await asyncio.sleep(1)\n",
    "    print(\"Two\")\n",
    "\n",
    "async def main():\n",
    "    await asyncio.gather(count(), count(), count())\n",
    "\n",
    "asyncio.run(main())\n",
    "\n",
    "\"\"\"\n",
    "# Immediately\n",
    "One\n",
    "One\n",
    "One\n",
    "# After one second\n",
    "Two\n",
    "Two\n",
    "Two\n",
    "\"\"\""
   ]
  },
  {
   "cell_type": "code",
   "execution_count": 27,
   "metadata": {},
   "outputs": [],
   "source": [
    "async def g():\n",
    "    # Pause here and come back to g() when f() is ready\n",
    "    r = await f()\n",
    "    return r"
   ]
  },
  {
   "cell_type": "code",
   "execution_count": 32,
   "metadata": {},
   "outputs": [],
   "source": [
    "async def f(x):\n",
    "    y = await z(x)  # OK - `await` and `return` allowed in coroutines\n",
    "    return y\n",
    "\n",
    "async def g(x):\n",
    "    yield x  # OK - this is an async generator\n",
    "\n",
    "async def m(x):\n",
    "    # yield from gen(x)  # No - SyntaxError\n",
    "    pass\n",
    "\n",
    "def m(x):\n",
    "    # y = await z(x)  # Still no - SyntaxError (no `async def` here)\n",
    "    return y"
   ]
  },
  {
   "cell_type": "code",
   "execution_count": 34,
   "metadata": {},
   "outputs": [],
   "source": [
    "import asyncio\n",
    "\n",
    "# @asyncio.coroutine\n",
    "def py34_coro():\n",
    "    \"\"\"Generator-based coroutine, older syntax\"\"\"\n",
    "    yield from stuff()\n",
    "\n",
    "async def py35_coro():\n",
    "    \"\"\"Native coroutine, modern syntax\"\"\"\n",
    "    await stuff()"
   ]
  },
  {
   "cell_type": "code",
   "execution_count": null,
   "metadata": {},
   "outputs": [],
   "source": []
  }
 ],
 "metadata": {
  "kernelspec": {
   "display_name": "venv",
   "language": "python",
   "name": "python3"
  },
  "language_info": {
   "codemirror_mode": {
    "name": "ipython",
    "version": 3
   },
   "file_extension": ".py",
   "mimetype": "text/x-python",
   "name": "python",
   "nbconvert_exporter": "python",
   "pygments_lexer": "ipython3",
   "version": "3.11.0"
  },
  "orig_nbformat": 4
 },
 "nbformat": 4,
 "nbformat_minor": 2
}
