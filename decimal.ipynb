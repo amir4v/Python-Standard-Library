{
 "cells": [
  {
   "cell_type": "code",
   "execution_count": 11,
   "metadata": {},
   "outputs": [],
   "source": [
    "from decimal import Decimal, getcontext, ROUND_UP"
   ]
  },
  {
   "cell_type": "code",
   "execution_count": 3,
   "metadata": {},
   "outputs": [
    {
     "data": {
      "text/plain": [
       "Decimal('0.1428571')"
      ]
     },
     "execution_count": 3,
     "metadata": {},
     "output_type": "execute_result"
    }
   ],
   "source": [
    "getcontext().prec = 7\n",
    "Decimal(1) / Decimal(7)"
   ]
  },
  {
   "cell_type": "code",
   "execution_count": 4,
   "metadata": {},
   "outputs": [
    {
     "data": {
      "text/plain": [
       "Decimal('0.142857142857143')"
      ]
     },
     "execution_count": 4,
     "metadata": {},
     "output_type": "execute_result"
    }
   ],
   "source": [
    "getcontext().prec = 15\n",
    "Decimal(1) / Decimal(7)"
   ]
  },
  {
   "cell_type": "code",
   "execution_count": 9,
   "metadata": {},
   "outputs": [
    {
     "name": "stdout",
     "output_type": "stream",
     "text": [
      "\n",
      " 1.41421356237310 \n",
      " 1.58113883008419 \n",
      " 1.41421356237310 \n",
      " 1.41421356237310 \n",
      " 1.41421356237310 \n",
      " 1.4142135623730951 \n",
      " 1.4142135623730951\n"
     ]
    }
   ],
   "source": [
    "print(\n",
    "    '\\n',\n",
    "    Decimal(2) ** Decimal(0.5),\n",
    "    '\\n',\n",
    "    Decimal(2.5) ** Decimal(0.5),\n",
    "    '\\n',\n",
    "    Decimal(2.0) ** Decimal('0.5'),\n",
    "    '\\n',\n",
    "    Decimal('2') ** Decimal(0.5),\n",
    "    '\\n',\n",
    "    Decimal('2.0') ** Decimal(0.5),\n",
    "    '\\n',\n",
    "    Decimal(str(2 ** 0.5)),\n",
    "    '\\n',\n",
    "    Decimal(str(2.0 ** 0.5)),\n",
    ")"
   ]
  },
  {
   "cell_type": "code",
   "execution_count": 12,
   "metadata": {},
   "outputs": [],
   "source": [
    "getcontext().rounding = ROUND_UP"
   ]
  },
  {
   "cell_type": "code",
   "execution_count": 17,
   "metadata": {},
   "outputs": [
    {
     "data": {
      "text/plain": [
       "Decimal('4.9')"
      ]
     },
     "execution_count": 17,
     "metadata": {},
     "output_type": "execute_result"
    }
   ],
   "source": [
    "getcontext().prec = 2\n",
    "Decimal('2.79000123132') + Decimal('2.10')"
   ]
  },
  {
   "cell_type": "code",
   "execution_count": null,
   "metadata": {},
   "outputs": [],
   "source": []
  }
 ],
 "metadata": {
  "kernelspec": {
   "display_name": "venv",
   "language": "python",
   "name": "python3"
  },
  "language_info": {
   "codemirror_mode": {
    "name": "ipython",
    "version": 3
   },
   "file_extension": ".py",
   "mimetype": "text/x-python",
   "name": "python",
   "nbconvert_exporter": "python",
   "pygments_lexer": "ipython3",
   "version": "3.11.0"
  },
  "orig_nbformat": 4
 },
 "nbformat": 4,
 "nbformat_minor": 2
}
