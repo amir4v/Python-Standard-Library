{
 "cells": [
  {
   "cell_type": "code",
   "execution_count": 2,
   "metadata": {},
   "outputs": [],
   "source": [
    "import logging"
   ]
  },
  {
   "cell_type": "code",
   "execution_count": 3,
   "metadata": {},
   "outputs": [
    {
     "name": "stderr",
     "output_type": "stream",
     "text": [
      "WARNING:root:watch out!\n"
     ]
    }
   ],
   "source": [
    "logging.warning('watch out!')"
   ]
  },
  {
   "cell_type": "code",
   "execution_count": 4,
   "metadata": {},
   "outputs": [],
   "source": [
    "logging.info('abc')"
   ]
  },
  {
   "cell_type": "code",
   "execution_count": 7,
   "metadata": {},
   "outputs": [
    {
     "name": "stderr",
     "output_type": "stream",
     "text": [
      "WARNING:root:test\n",
      "ERROR:root:test\n",
      "CRITICAL:root:test\n"
     ]
    }
   ],
   "source": [
    "logging.debug('test')\n",
    "\n",
    "logging.info('test')\n",
    "\n",
    "logging.warning('test')\n",
    "\n",
    "logging.error('test')\n",
    "\n",
    "logging.critical('test')"
   ]
  },
  {
   "cell_type": "code",
   "execution_count": 14,
   "metadata": {},
   "outputs": [],
   "source": [
    "logging.basicConfig(level=logging.DEBUG)\n",
    "logging.debug('debug message')"
   ]
  },
  {
   "cell_type": "code",
   "execution_count": 22,
   "metadata": {},
   "outputs": [
    {
     "name": "stderr",
     "output_type": "stream",
     "text": [
      "ERROR:root:msg\n"
     ]
    }
   ],
   "source": [
    "logging.basicConfig(filename='log.log', level=logging.DEBUG, filemode='w', encoding='utf-8', format='%(asctime)s - %(process)d - %(name)s - %(levelname)s - %(message)s', datefmt='%m/%d/%Y %I:%M:%S %p')\n",
    "logging.debug('msg')\n",
    "logging.error('msg')"
   ]
  },
  {
   "cell_type": "code",
   "execution_count": 26,
   "metadata": {},
   "outputs": [
    {
     "name": "stderr",
     "output_type": "stream",
     "text": [
      "ERROR:root:ex ocur\n",
      "Traceback (most recent call last):\n",
      "  File \"C:\\Users\\Amir\\AppData\\Local\\Temp\\ipykernel_8560\\4048996290.py\", line 2, in <module>\n",
      "    0/0\n",
      "    ~^~\n",
      "ZeroDivisionError: division by zero\n"
     ]
    }
   ],
   "source": [
    "try:\n",
    "    0/0\n",
    "except:\n",
    "    logging.error(\"ex ocur\", exc_info=True)"
   ]
  },
  {
   "cell_type": "code",
   "execution_count": 27,
   "metadata": {},
   "outputs": [
    {
     "name": "stderr",
     "output_type": "stream",
     "text": [
      "ERROR:root:msg\n",
      "NoneType: None\n"
     ]
    }
   ],
   "source": [
    "logging.exception('msg')"
   ]
  },
  {
   "cell_type": "code",
   "execution_count": 28,
   "metadata": {},
   "outputs": [
    {
     "name": "stderr",
     "output_type": "stream",
     "text": [
      "ERROR:__main__:er\n"
     ]
    }
   ],
   "source": [
    "logger = logging.getLogger(__name__)\n",
    "logger.error('er')"
   ]
  },
  {
   "cell_type": "code",
   "execution_count": 30,
   "metadata": {},
   "outputs": [
    {
     "name": "stderr",
     "output_type": "stream",
     "text": [
      "ERROR:Amir4v:msg error\n"
     ]
    }
   ],
   "source": [
    "logger = logging.getLogger('Amir4v')\n",
    "logger.error('msg error')"
   ]
  },
  {
   "cell_type": "code",
   "execution_count": 31,
   "metadata": {},
   "outputs": [
    {
     "name": "stderr",
     "output_type": "stream",
     "text": [
      "ROOT - WARNING - warn\n",
      "WARNING:ROOT:warn\n"
     ]
    }
   ],
   "source": [
    "logger = logging.getLogger('ROOT')\n",
    "\n",
    "s_h = logging.StreamHandler()\n",
    "s_h.setLevel(logging.DEBUG)\n",
    "s_h.setFormatter(\n",
    "    logging.Formatter('%(name)s - %(levelname)s - %(message)s')\n",
    ")\n",
    "\n",
    "logger.addHandler(s_h)\n",
    "\n",
    "logger.warning('warn')"
   ]
  },
  {
   "cell_type": "code",
   "execution_count": 33,
   "metadata": {},
   "outputs": [
    {
     "name": "stderr",
     "output_type": "stream",
     "text": [
      "ROOT - ERROR - warn\n",
      "ERROR:ROOT:warn\n"
     ]
    }
   ],
   "source": [
    "logger = logging.getLogger('ROOT')\n",
    "\n",
    "s_h = logging.FileHandler('LOGGING.log')\n",
    "s_h.setLevel(logging.DEBUG)\n",
    "s_h.setFormatter(\n",
    "    logging.Formatter('%(asctime)s - %(name)s - %(levelname)s - %(message)s')\n",
    ")\n",
    "\n",
    "logger.addHandler(s_h)\n",
    "\n",
    "logger.error('warn')"
   ]
  },
  {
   "cell_type": "code",
   "execution_count": 34,
   "metadata": {},
   "outputs": [
    {
     "name": "stdout",
     "output_type": "stream",
     "text": [
      "2023-06-16 22:04:56,584 - __main__ - DEBUG - This is a debug message\n"
     ]
    }
   ],
   "source": [
    "import logging\n",
    "import logging.config\n",
    "\n",
    "logging.config.fileConfig(fname='logging.conf', disable_existing_loggers=False)\n",
    "\n",
    "# Get the logger specified in the file\n",
    "logger = logging.getLogger(__name__)\n",
    "\n",
    "logger.debug('This is a debug message')"
   ]
  },
  {
   "cell_type": "code",
   "execution_count": null,
   "metadata": {},
   "outputs": [],
   "source": []
  }
 ],
 "metadata": {
  "kernelspec": {
   "display_name": "venv",
   "language": "python",
   "name": "python3"
  },
  "language_info": {
   "codemirror_mode": {
    "name": "ipython",
    "version": 3
   },
   "file_extension": ".py",
   "mimetype": "text/x-python",
   "name": "python",
   "nbconvert_exporter": "python",
   "pygments_lexer": "ipython3",
   "version": "3.11.0"
  },
  "orig_nbformat": 4
 },
 "nbformat": 4,
 "nbformat_minor": 2
}
