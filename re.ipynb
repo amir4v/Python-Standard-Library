{
 "cells": [
  {
   "cell_type": "code",
   "execution_count": 30,
   "metadata": {},
   "outputs": [],
   "source": [
    "from re import *"
   ]
  },
  {
   "cell_type": "code",
   "execution_count": 21,
   "metadata": {},
   "outputs": [
    {
     "data": {
      "text/plain": [
       "\"\\n.\\nmatches any character except a newline\\n^\\nMatches the start of the string, and in MULTILINE mode also matches immediately after each newline.\\n$\\nMatches the end of the string or just before the newline at the end of the string\\n*\\n0 or more\\n+\\n1 or more\\n?\\nCauses the resulting RE to match 0 or 1 repetitions of the preceding RE. ab? will match either ‘a’ or ‘ab’.\\n{m}\\nSpecifies that exactly m copies of the previous RE should be matched\\n{m,n}\\nCauses the resulting RE to match from m to n repetitions of the preceding RE\\nEither escapes special characters (permitting you to match characters like '*', '?', and so forth),\\nor signals a special sequence; special sequences are discussed below.\\n[]\\nUsed to indicate a set of characters.\\n|\\nA|B, where A and B can be arbitrary REs, creates a regular expression that will match either A or B\\n(...)\\nMatches whatever regular expression is inside the parentheses, and indicates the start and end of a group;\\nthe contents of a group can be retrieved after a match has been performed,\\nand can be matched later in the string with the \\number special sequence, described below.\\nTo match the literals '(' or ')', use \\\\( or \\\\), or enclose them inside a character class: [(], [)].\\n(?...)\\nThis is an extension notation (a '?' following a '(' is not meaningful otherwise).\\nThe first character after the '?' determines what the meaning and further syntax of the construct is.\\nExtensions usually do not create a new group; (?P<name>...) is the only exception to this rule.Following are the currently supported extensions.\\n(?P<name>...)\\nSimilar to regular parentheses, but the substring matched by the group is accessible via the symbolic group name name.\\nGroup names must be valid Python identifiers, and each group name must be defined only once within a regular expression.\\nA symbolic group is also a numbered group, just as if the group were not named.\\n(?P=name)\\nA backreference to a named group; it matches whatever text was matched by the earlier group named name.\\n\\\\A\\nMatches only at the start of the string.\\n\\x08\\nMatches the empty string, but only at the beginning or end of a word\\n\\\\B\\nMatches the empty string, but only when it is not at the beginning or end of a word\\n\\\\d\\nMatches any Unicode decimal digit: [0-9]\\n\\\\D\\nMatches any character which is not a decimal digit: [^0-9]\\n\\\\s\\nMatches Unicode whitespace characters (which includes [ \\t\\n\\r\\x0c\\x0b]\\n\\\\S\\nMatches any character which is not a whitespace character: [^ \\t\\n\\r\\x0c\\x0b]\\n\\\\w\\nMatches Unicode word characters: [a-zA-Z0-9_]\\n\\\\W\\nMatches any character which is not a word character: [^a-zA-Z0-9_]\\n\\\\Z\\nMatches only at the end of the string.\\n\""
      ]
     },
     "execution_count": 21,
     "metadata": {},
     "output_type": "execute_result"
    }
   ],
   "source": [
    "# Regular expressions use the backslash character ('\\') to indicate special forms\n",
    "# or to allow special characters to be used without invoking their special meaning.\n",
    "\n",
    "# The solution is to use Python’s raw string notation for regular expression patterns;\n",
    "# backslashes are not handled in any special way in a string literal prefixed with 'r'. So r\"\\n\" is a two-character string containing '\\' and 'n'\n",
    "\n",
    "# Some characters, like '|' or '(', are special. Special characters either stand for classes of ordinary characters,\n",
    "# or affect how the regular expressions around them are interpreted.\n",
    "\n",
    "# Repetition operators or quantifiers (*, +, ?, {m,n}, etc) cannot be directly nested.\n",
    "# This avoids ambiguity with the non-greedy modifier suffix ?, and with other modifiers in other implementations.\n",
    "# To apply a second repetition to an inner repetition, parentheses may be used.\n",
    "# For example, the expression (?:a{6})* matches any multiple of six 'a' characters.\n",
    "\n",
    "\"\"\"\n",
    ".\n",
    "matches any character except a newline\n",
    "^\n",
    "Matches the start of the string, and in MULTILINE mode also matches immediately after each newline.\n",
    "$\n",
    "Matches the end of the string or just before the newline at the end of the string\n",
    "*\n",
    "0 or more\n",
    "+\n",
    "1 or more\n",
    "?\n",
    "Causes the resulting RE to match 0 or 1 repetitions of the preceding RE. ab? will match either ‘a’ or ‘ab’.\n",
    "{m}\n",
    "Specifies that exactly m copies of the previous RE should be matched\n",
    "{m,n}\n",
    "Causes the resulting RE to match from m to n repetitions of the preceding RE\n",
    "\\\n",
    "Either escapes special characters (permitting you to match characters like '*', '?', and so forth),\n",
    "or signals a special sequence; special sequences are discussed below.\n",
    "[]\n",
    "Used to indicate a set of characters.\n",
    "|\n",
    "A|B, where A and B can be arbitrary REs, creates a regular expression that will match either A or B\n",
    "(...)\n",
    "Matches whatever regular expression is inside the parentheses, and indicates the start and end of a group;\n",
    "the contents of a group can be retrieved after a match has been performed,\n",
    "and can be matched later in the string with the \\number special sequence, described below.\n",
    "To match the literals '(' or ')', use \\( or \\), or enclose them inside a character class: [(], [)].\n",
    "(?...)\n",
    "This is an extension notation (a '?' following a '(' is not meaningful otherwise).\n",
    "The first character after the '?' determines what the meaning and further syntax of the construct is.\n",
    "Extensions usually do not create a new group; (?P<name>...) is the only exception to this rule.Following are the currently supported extensions.\n",
    "(?P<name>...)\n",
    "Similar to regular parentheses, but the substring matched by the group is accessible via the symbolic group name name.\n",
    "Group names must be valid Python identifiers, and each group name must be defined only once within a regular expression.\n",
    "A symbolic group is also a numbered group, just as if the group were not named.\n",
    "(?P=name)\n",
    "A backreference to a named group; it matches whatever text was matched by the earlier group named name.\n",
    "\\A\n",
    "Matches only at the start of the string.\n",
    "\\b\n",
    "Matches the empty string, but only at the beginning or end of a word\n",
    "\\B\n",
    "Matches the empty string, but only when it is not at the beginning or end of a word\n",
    "\\d\n",
    "Matches any Unicode decimal digit: [0-9]\n",
    "\\D\n",
    "Matches any character which is not a decimal digit: [^0-9]\n",
    "\\s\n",
    "Matches Unicode whitespace characters (which includes [ \\t\\n\\r\\f\\v]\n",
    "\\S\n",
    "Matches any character which is not a whitespace character: [^ \\t\\n\\r\\f\\v]\n",
    "\\w\n",
    "Matches Unicode word characters: [a-zA-Z0-9_]\n",
    "\\W\n",
    "Matches any character which is not a word character: [^a-zA-Z0-9_]\n",
    "\\Z\n",
    "Matches only at the end of the string.\n",
    "\"\"\""
   ]
  },
  {
   "cell_type": "code",
   "execution_count": 22,
   "metadata": {},
   "outputs": [
    {
     "data": {
      "text/plain": [
       "<function re.fullmatch(pattern, string, flags=0)>"
      ]
     },
     "execution_count": 22,
     "metadata": {},
     "output_type": "execute_result"
    }
   ],
   "source": [
    "match\n",
    "search\n",
    "sub\n",
    "compile\n",
    "finditer\n",
    "findall\n",
    "split\n",
    "fullmatch"
   ]
  },
  {
   "cell_type": "code",
   "execution_count": 23,
   "metadata": {},
   "outputs": [
    {
     "data": {
      "text/plain": [
       "<re.Match object; span=(0, 29), match='abcdefg@hi.jklmnopqrstuvwxyzA'>"
      ]
     },
     "execution_count": 23,
     "metadata": {},
     "output_type": "execute_result"
    }
   ],
   "source": [
    "search(r'[a-zA-Z0-9_\\.]{3,64}@[a-zA-Z0-9_\\.]{1,64}\\.[a-zA-Z0-9_\\.]{2,64}', 'abcdefg@hi.jklmnopqrstuvwxyzA amir4vx@gmail.google.com BCD1234567890 <a> hi a </a> end-.')"
   ]
  },
  {
   "cell_type": "code",
   "execution_count": 24,
   "metadata": {},
   "outputs": [
    {
     "data": {
      "text/plain": [
       "<re.Match object; span=(0, 24), match='amir4vx@gmail.google.com'>"
      ]
     },
     "execution_count": 24,
     "metadata": {},
     "output_type": "execute_result"
    }
   ],
   "source": [
    "match(r'[a-zA-Z0-9_\\.]{3,64}@[a-zA-Z0-9_\\.]{1,64}\\.[a-zA-Z0-9_\\.]{2,64}', 'amir4vx@gmail.google.com')"
   ]
  },
  {
   "cell_type": "code",
   "execution_count": 25,
   "metadata": {},
   "outputs": [
    {
     "data": {
      "text/plain": [
       "['abcdefg@hi.jklmnopqrstuvwxyzA', 'amir4vx@gmail.google.com']"
      ]
     },
     "execution_count": 25,
     "metadata": {},
     "output_type": "execute_result"
    }
   ],
   "source": [
    "findall(r'[a-zA-Z0-9_\\.]{3,64}@[a-zA-Z0-9_\\.]{1,64}\\.[a-zA-Z0-9_\\.]{2,64}', 'abcdefg@hi.jklmnopqrstuvwxyzA amir4vx@gmail.google.com BCD1234567890 <a> hi a </a> end-.')"
   ]
  },
  {
   "cell_type": "code",
   "execution_count": 26,
   "metadata": {},
   "outputs": [
    {
     "data": {
      "text/plain": [
       "['', ' ', ' BCD1234567890 <a> hi a </a> end-.']"
      ]
     },
     "execution_count": 26,
     "metadata": {},
     "output_type": "execute_result"
    }
   ],
   "source": [
    "split(r'[a-zA-Z0-9_\\.]{3,64}@[a-zA-Z0-9_\\.]{1,64}\\.[a-zA-Z0-9_\\.]{2,64}', 'abcdefg@hi.jklmnopqrstuvwxyzA amir4vx@gmail.google.com BCD1234567890 <a> hi a </a> end-.')"
   ]
  },
  {
   "cell_type": "code",
   "execution_count": 27,
   "metadata": {},
   "outputs": [
    {
     "data": {
      "text/plain": [
       "'\\n[]\\tA set of characters : \"[a-m]\"\\t\\n\\\\\\tSignals a special sequence (can also be used to escape special characters) : \"\\\\d\"\\t\\n.\\tAny character (except newline character) : \"he..o\"\\t\\n^\\tStarts with : \"^hello\"\\t\\n$\\tEnds with : \"planet$\"\\t\\n*\\tZero or more occurrences : \"he.*o\"\\t\\n+\\tOne or more occurrences : \"he.+o\"\\t\\n?\\tZero or one occurrences : \"he.?o\"\\t\\n{}\\tExactly the specified number of occurrences : \"he.{2}o\"\\t\\n|\\tEither or : \"falls|stays\"\\t\\n()\\tCapture and group\\n'"
      ]
     },
     "execution_count": 27,
     "metadata": {},
     "output_type": "execute_result"
    }
   ],
   "source": [
    "'''\n",
    "[]\tA set of characters : \"[a-m]\"\t\n",
    "\\\tSignals a special sequence (can also be used to escape special characters) : \"\\d\"\t\n",
    ".\tAny character (except newline character) : \"he..o\"\t\n",
    "^\tStarts with : \"^hello\"\t\n",
    "$\tEnds with : \"planet$\"\t\n",
    "*\tZero or more occurrences : \"he.*o\"\t\n",
    "+\tOne or more occurrences : \"he.+o\"\t\n",
    "?\tZero or one occurrences : \"he.?o\"\t\n",
    "{}\tExactly the specified number of occurrences : \"he.{2}o\"\t\n",
    "|\tEither or : \"falls|stays\"\t\n",
    "()\tCapture and group\n",
    "'''"
   ]
  },
  {
   "cell_type": "code",
   "execution_count": 31,
   "metadata": {},
   "outputs": [
    {
     "name": "stdout",
     "output_type": "stream",
     "text": [
      "['ai', 'ai']\n"
     ]
    }
   ],
   "source": [
    "txt = \"The rain in Spain\"\n",
    "x = findall(\"ai\", txt)\n",
    "print(x)"
   ]
  },
  {
   "cell_type": "code",
   "execution_count": 33,
   "metadata": {},
   "outputs": [
    {
     "name": "stdout",
     "output_type": "stream",
     "text": [
      "[]\n"
     ]
    }
   ],
   "source": [
    "txt = \"The rain in Spain\"\n",
    "x = findall(\"Portugal\", txt)\n",
    "print(x)"
   ]
  },
  {
   "cell_type": "code",
   "execution_count": 34,
   "metadata": {},
   "outputs": [
    {
     "data": {
      "text/plain": [
       "<re.Match object; span=(3, 4), match=' '>"
      ]
     },
     "execution_count": 34,
     "metadata": {},
     "output_type": "execute_result"
    }
   ],
   "source": [
    "txt = \"The rain in Spain\"\n",
    "x = search(\"\\s\", txt)\n",
    "x"
   ]
  },
  {
   "cell_type": "code",
   "execution_count": 35,
   "metadata": {},
   "outputs": [
    {
     "name": "stdout",
     "output_type": "stream",
     "text": [
      "['The', 'rain', 'in', 'Spain']\n"
     ]
    }
   ],
   "source": [
    "txt = \"The rain in Spain\"\n",
    "x = split(\"\\s\", txt)\n",
    "print(x)"
   ]
  },
  {
   "cell_type": "code",
   "execution_count": 36,
   "metadata": {},
   "outputs": [
    {
     "name": "stdout",
     "output_type": "stream",
     "text": [
      "['The', 'rain in Spain']\n"
     ]
    }
   ],
   "source": [
    "txt = \"The rain in Spain\"\n",
    "x = split(\"\\s\", txt, 1)\n",
    "print(x)"
   ]
  },
  {
   "cell_type": "code",
   "execution_count": 37,
   "metadata": {},
   "outputs": [
    {
     "name": "stdout",
     "output_type": "stream",
     "text": [
      "The9rain9in9Spain\n"
     ]
    }
   ],
   "source": [
    "txt = \"The rain in Spain\"\n",
    "x = sub(\"\\s\", \"9\", txt)\n",
    "print(x)"
   ]
  },
  {
   "cell_type": "code",
   "execution_count": 38,
   "metadata": {},
   "outputs": [
    {
     "name": "stdout",
     "output_type": "stream",
     "text": [
      "The9rain9in Spain\n"
     ]
    }
   ],
   "source": [
    "txt = \"The rain in Spain\"\n",
    "x = sub(\"\\s\", \"9\", txt, 2)\n",
    "print(x)"
   ]
  },
  {
   "cell_type": "code",
   "execution_count": 42,
   "metadata": {},
   "outputs": [
    {
     "name": "stdout",
     "output_type": "stream",
     "text": [
      "x , Tx , x , x ,  x , x , x , x , x ,  x , x , x ,  x , Sx , x , x , x , x , \n"
     ]
    }
   ],
   "source": [
    "txt = \"The rain in Spain\"\n",
    "x = sub(\"[a-z]?\", \"x , \", txt)\n",
    "print(x)"
   ]
  },
  {
   "cell_type": "code",
   "execution_count": 43,
   "metadata": {},
   "outputs": [
    {
     "name": "stdout",
     "output_type": "stream",
     "text": [
      "<re.Match object; span=(5, 7), match='ai'>\n"
     ]
    }
   ],
   "source": [
    "txt = \"The rain in Spain\"\n",
    "x = search(\"ai\", txt)\n",
    "print(x)"
   ]
  },
  {
   "cell_type": "code",
   "execution_count": 44,
   "metadata": {},
   "outputs": [
    {
     "name": "stdout",
     "output_type": "stream",
     "text": [
      "(12, 17)\n"
     ]
    }
   ],
   "source": [
    "txt = \"The rain in Spain\"\n",
    "x = search(r\"\\bS\\w+\", txt)\n",
    "print(x.span())"
   ]
  },
  {
   "cell_type": "code",
   "execution_count": 45,
   "metadata": {},
   "outputs": [
    {
     "name": "stdout",
     "output_type": "stream",
     "text": [
      "The rain in Spain\n"
     ]
    }
   ],
   "source": [
    "txt = \"The rain in Spain\"\n",
    "x = search(r\"\\bS\\w+\", txt)\n",
    "print(x.string)"
   ]
  },
  {
   "cell_type": "code",
   "execution_count": 46,
   "metadata": {},
   "outputs": [
    {
     "name": "stdout",
     "output_type": "stream",
     "text": [
      "Spain\n"
     ]
    }
   ],
   "source": [
    "txt = \"The rain in Spain\"\n",
    "x = search(r\"\\bS\\w+\", txt)\n",
    "print(x.group())"
   ]
  },
  {
   "cell_type": "code",
   "execution_count": null,
   "metadata": {},
   "outputs": [],
   "source": []
  }
 ],
 "metadata": {
  "kernelspec": {
   "display_name": "venv",
   "language": "python",
   "name": "python3"
  },
  "language_info": {
   "codemirror_mode": {
    "name": "ipython",
    "version": 3
   },
   "file_extension": ".py",
   "mimetype": "text/x-python",
   "name": "python",
   "nbconvert_exporter": "python",
   "pygments_lexer": "ipython3",
   "version": "3.11.0"
  },
  "orig_nbformat": 4
 },
 "nbformat": 4,
 "nbformat_minor": 2
}
